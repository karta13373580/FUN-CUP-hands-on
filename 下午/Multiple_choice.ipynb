{
  "nbformat": 4,
  "nbformat_minor": 0,
  "metadata": {
    "accelerator": "GPU",
    "colab": {
      "name": "Multiple_choice.ipynb",
      "provenance": [],
      "collapsed_sections": [],
      "toc_visible": true
    },
    "kernelspec": {
      "display_name": "Python 3",
      "language": "python",
      "name": "python3"
    },
    "language_info": {
      "codemirror_mode": {
        "name": "ipython",
        "version": 3
      },
      "file_extension": ".py",
      "mimetype": "text/x-python",
      "name": "python",
      "nbconvert_exporter": "python",
      "pygments_lexer": "ipython3",
      "version": "3.6.4"
    }
  },
  "cells": [
    {
      "cell_type": "markdown",
      "metadata": {
        "colab_type": "text",
        "id": "hI5oPesUkjk-"
      },
      "source": [
        "# Let's Start Question Answering"
      ]
    },
    {
      "cell_type": "markdown",
      "metadata": {
        "colab_type": "text",
        "id": "R_Onen8_mGVp"
      },
      "source": [
        "因為pytorch-transformers 在1.0.0版有許多的bug 所以我們這邊安裝master branch來使用"
      ]
    },
    {
      "cell_type": "code",
      "metadata": {
        "colab_type": "code",
        "id": "glH-BDVOlW7e",
        "outputId": "6312f76d-f2f0-4df1-9dce-5d109bb335cf",
        "colab": {
          "base_uri": "https://localhost:8080/",
          "height": 462
        }
      },
      "source": [
        "!pip install https://github.com/huggingface/transformers/releases/download/v0.1.2/pytorch_pretrained_bert-0.1.2.tar.gz"
      ],
      "execution_count": 0,
      "outputs": [
        {
          "output_type": "stream",
          "text": [
            "Collecting https://github.com/huggingface/transformers/releases/download/v0.1.2/pytorch_pretrained_bert-0.1.2.tar.gz\n",
            "\u001b[?25l  Downloading https://github.com/huggingface/transformers/releases/download/v0.1.2/pytorch_pretrained_bert-0.1.2.tar.gz (46kB)\n",
            "\u001b[K     |████████████████████████████████| 51kB 621kB/s \n",
            "\u001b[?25hRequirement already satisfied: torch>=0.4.1 in /usr/local/lib/python3.6/dist-packages (from pytorch-pretrained-bert==0.1.2) (1.2.0)\n",
            "Requirement already satisfied: numpy in /usr/local/lib/python3.6/dist-packages (from pytorch-pretrained-bert==0.1.2) (1.16.5)\n",
            "Requirement already satisfied: boto3 in /usr/local/lib/python3.6/dist-packages (from pytorch-pretrained-bert==0.1.2) (1.9.236)\n",
            "Requirement already satisfied: requests in /usr/local/lib/python3.6/dist-packages (from pytorch-pretrained-bert==0.1.2) (2.21.0)\n",
            "Requirement already satisfied: tqdm in /usr/local/lib/python3.6/dist-packages (from pytorch-pretrained-bert==0.1.2) (4.28.1)\n",
            "Requirement already satisfied: jmespath<1.0.0,>=0.7.1 in /usr/local/lib/python3.6/dist-packages (from boto3->pytorch-pretrained-bert==0.1.2) (0.9.4)\n",
            "Requirement already satisfied: botocore<1.13.0,>=1.12.236 in /usr/local/lib/python3.6/dist-packages (from boto3->pytorch-pretrained-bert==0.1.2) (1.12.236)\n",
            "Requirement already satisfied: s3transfer<0.3.0,>=0.2.0 in /usr/local/lib/python3.6/dist-packages (from boto3->pytorch-pretrained-bert==0.1.2) (0.2.1)\n",
            "Requirement already satisfied: chardet<3.1.0,>=3.0.2 in /usr/local/lib/python3.6/dist-packages (from requests->pytorch-pretrained-bert==0.1.2) (3.0.4)\n",
            "Requirement already satisfied: certifi>=2017.4.17 in /usr/local/lib/python3.6/dist-packages (from requests->pytorch-pretrained-bert==0.1.2) (2019.9.11)\n",
            "Requirement already satisfied: urllib3<1.25,>=1.21.1 in /usr/local/lib/python3.6/dist-packages (from requests->pytorch-pretrained-bert==0.1.2) (1.24.3)\n",
            "Requirement already satisfied: idna<2.9,>=2.5 in /usr/local/lib/python3.6/dist-packages (from requests->pytorch-pretrained-bert==0.1.2) (2.8)\n",
            "Requirement already satisfied: docutils<0.16,>=0.10 in /usr/local/lib/python3.6/dist-packages (from botocore<1.13.0,>=1.12.236->boto3->pytorch-pretrained-bert==0.1.2) (0.15.2)\n",
            "Requirement already satisfied: python-dateutil<3.0.0,>=2.1; python_version >= \"2.7\" in /usr/local/lib/python3.6/dist-packages (from botocore<1.13.0,>=1.12.236->boto3->pytorch-pretrained-bert==0.1.2) (2.5.3)\n",
            "Requirement already satisfied: six>=1.5 in /usr/local/lib/python3.6/dist-packages (from python-dateutil<3.0.0,>=2.1; python_version >= \"2.7\"->botocore<1.13.0,>=1.12.236->boto3->pytorch-pretrained-bert==0.1.2) (1.12.0)\n",
            "Building wheels for collected packages: pytorch-pretrained-bert\n",
            "  Building wheel for pytorch-pretrained-bert (setup.py) ... \u001b[?25l\u001b[?25hdone\n",
            "  Created wheel for pytorch-pretrained-bert: filename=pytorch_pretrained_bert-0.1.2-cp36-none-any.whl size=32311 sha256=223761a9734eee4f58634046dc0263909e67146247606708ae84dd3178a2a4ba\n",
            "  Stored in directory: /root/.cache/pip/wheels/95/f2/55/b2c19f6d3a9bbede0fb2d8874b33510e5fe96f33a8549166c9\n",
            "Successfully built pytorch-pretrained-bert\n",
            "Installing collected packages: pytorch-pretrained-bert\n",
            "Successfully installed pytorch-pretrained-bert-0.1.2\n"
          ],
          "name": "stdout"
        }
      ]
    },
    {
      "cell_type": "code",
      "metadata": {
        "colab_type": "code",
        "id": "Pb7dCRxADPSJ",
        "outputId": "06b6720d-316a-4baa-9a82-d7250fa0675b",
        "colab": {
          "base_uri": "https://localhost:8080/",
          "height": 340
        }
      },
      "source": [
        "!nvidia-smi\n",
        "!rm -rf bert_chinese*\n",
        "!rm -rf pytorch_pretrained_bert*\n",
        "!wget -q --no-check-certificate -r 'https://drive.google.com/uc?export=download&id=1SXz4Hr073OCuIOqzmi1Ool6m9-g8yYOf' -O bert_chinese.zip\n",
        "!unzip -q -o bert_chinese.zip\n",
        "!wget -q --no-check-certificate -r 'https://drive.google.com/uc?export=download&id=15vkVWzKDlik_l2MAkvGI6tIhPauQiGaW' -O pytorch_pretrained_bert.zip\n",
        "!unzip -q -o pytorch_pretrained_bert.zip\n",
        "# !wget --no-check-certificate -r 'https://drive.google.com/uc?export=download&id=1IIVjgGX_JeXBNQv-vRAj1JLFvv2x9EVu' -O pytorch_pretrained_bert-0.1.2.zip\n",
        "# !unzip pytorch_pretrained_bert-0.1.2.zip\n",
        "# %cd pytorch_pretrained_bert-0.1.2\n",
        "# !python setup.py install\n",
        "# %cd .."
      ],
      "execution_count": 0,
      "outputs": [
        {
          "output_type": "stream",
          "text": [
            "Fri Oct  4 15:46:55 2019       \n",
            "+-----------------------------------------------------------------------------+\n",
            "| NVIDIA-SMI 430.40       Driver Version: 418.67       CUDA Version: 10.1     |\n",
            "|-------------------------------+----------------------+----------------------+\n",
            "| GPU  Name        Persistence-M| Bus-Id        Disp.A | Volatile Uncorr. ECC |\n",
            "| Fan  Temp  Perf  Pwr:Usage/Cap|         Memory-Usage | GPU-Util  Compute M. |\n",
            "|===============================+======================+======================|\n",
            "|   0  Tesla K80           Off  | 00000000:00:04.0 Off |                    0 |\n",
            "| N/A   35C    P8    27W / 149W |      0MiB / 11441MiB |      0%      Default |\n",
            "+-------------------------------+----------------------+----------------------+\n",
            "                                                                               \n",
            "+-----------------------------------------------------------------------------+\n",
            "| Processes:                                                       GPU Memory |\n",
            "|  GPU       PID   Type   Process name                             Usage      |\n",
            "|=============================================================================|\n",
            "|  No running processes found                                                 |\n",
            "+-----------------------------------------------------------------------------+\n",
            "warning [bert_chinese.zip]:  402932 extra bytes at beginning or within zipfile\n",
            "  (attempting to process anyway)\n"
          ],
          "name": "stdout"
        }
      ]
    },
    {
      "cell_type": "code",
      "metadata": {
        "id": "yn-Z7UT7vXfO",
        "colab_type": "code",
        "colab": {}
      },
      "source": [
        ""
      ],
      "execution_count": 0,
      "outputs": []
    },
    {
      "cell_type": "code",
      "metadata": {
        "colab_type": "code",
        "id": "4YT_9HJR_8c6",
        "colab": {}
      },
      "source": [
        "import torch\n",
        "from torch.utils.data import (DataLoader, RandomSampler, SequentialSampler,\n",
        "                              TensorDataset)\n",
        "import numpy as np\n",
        "from tqdm import tqdm\n",
        "\n",
        "\n",
        "def to_list(tensor):\n",
        "    return tensor.detach().cpu().tolist()\n",
        " \n",
        "\n",
        "def _get_best_indexes(logits, n_best_size=1):\n",
        "    \"\"\"Get the n-best logits from a list.\"\"\"\n",
        "    index_and_score = sorted(enumerate(logits), key=lambda x: x[1], reverse=True)\n",
        "\n",
        "    best_indexes = []\n",
        "    for i in range(len(index_and_score)):\n",
        "        if i >= n_best_size:\n",
        "            break\n",
        "        best_indexes.append(index_and_score[i][0])\n",
        "    return best_indexes\n",
        " \n",
        "def softmax(x):\n",
        "    e_x = np.exp(x - np.max(x))\n",
        "    return e_x / e_x.sum(axis=1, keepdims=True)\n",
        "    \n",
        "def predict(eval_dataloader, model, tokenizer, device='cpu'):\n",
        "\n",
        "\n",
        "    model.eval()\n",
        "    eval_loss, eval_accuracy = 0, 0\n",
        "    nb_eval_steps, nb_eval_examples = 0, 0\n",
        "    predictions = []\n",
        "    for input_ids, input_mask, segment_ids, label_ids in tqdm(eval_dataloader, desc='Iteration'):\n",
        "        input_ids = input_ids.to(device)\n",
        "        input_mask = input_mask.to(device)\n",
        "        segment_ids = segment_ids.to(device)\n",
        "        label_ids = label_ids.to(device)\n",
        "\n",
        "        \n",
        "        with torch.no_grad():\n",
        "            print(input_ids.shape)\n",
        "#             tmp_eval_loss, logits = model(input_ids, segment_ids, input_mask, label_ids)\n",
        "            logits = model(input_ids, segment_ids, input_mask, label_ids)\n",
        "\n",
        "        logits = logits.detach().cpu().numpy()\n",
        "        label_ids = label_ids.to('cpu').numpy()\n",
        "        \n",
        "        logits = softmax(logits.tolist())\n",
        "        for logit in logits:\n",
        "            predictions.append(logit)\n",
        "\n",
        "    return np.argmax(predictions[0])\n",
        "  "
      ],
      "execution_count": 0,
      "outputs": []
    },
    {
      "cell_type": "code",
      "metadata": {
        "colab_type": "code",
        "id": "h_Dbex7fqbsj",
        "colab": {}
      },
      "source": [
        "import collections\n",
        "\n",
        "from torch.utils.data import TensorDataset, DataLoader, SequentialSampler\n",
        "\n",
        "\n",
        "class InputFeatures(object):\n",
        "    \"\"\"A single set of features of data.\"\"\"\n",
        "\n",
        "    def __init__(self, input_ids, input_mask, segment_ids, label_id):\n",
        "        self.input_ids = input_ids\n",
        "        self.input_mask = input_mask\n",
        "        self.segment_ids = segment_ids\n",
        "        self.label_id = label_id\n",
        "\n",
        "        \n",
        "def _truncate_seq_pair(tokens_a, tokens_b, max_length):\n",
        "    \"\"\"Truncates a sequence pair in place to the maximum length.\"\"\"\n",
        "\n",
        "    # This is a simple heuristic which will always truncate the longer sequence\n",
        "    # one token at a time. This makes more sense than truncating an equal percent\n",
        "    # of tokens from each, since if one sequence is very short then each token\n",
        "    # that's truncated likely contains more information than a longer sequence.\n",
        "    while True:\n",
        "        total_length = len(tokens_a) + len(tokens_b)\n",
        "        if total_length <= max_length:\n",
        "            break\n",
        "        if len(tokens_a) > len(tokens_b):\n",
        "            tokens_a.pop()\n",
        "        else:\n",
        "            tokens_b.pop()\n",
        "            \n",
        "            \n",
        "def convert_examples_to_features(context, question, choices, tokenizer, ans, max_seq_length=300, label_list=[1,2,3,4]):\n",
        "    \n",
        "    text_bs = list()\n",
        "    for choice in choices:\n",
        "        # text_b = tokenization.convert_to_unicode(str(row['choice%d' % i]))\n",
        "        text_bs.append(\"{} {}\".format(question, choice))\n",
        "        #text_b.append(choice)\n",
        "      \n",
        "\n",
        "    label_map = {}\n",
        "    for (i, label) in enumerate(label_list):\n",
        "        label_map[label] = i    \n",
        "\n",
        "    multiple_choice_input_ids = []\n",
        "    multiple_choice_input_masks = []\n",
        "    multiple_choice_segment_ids = []\n",
        "    for text_b in text_bs:  \n",
        "    \n",
        "\n",
        "        tokens_a = tokenizer.tokenize(context)  \n",
        "\n",
        "        tokens_b = None\n",
        "        if text_b:\n",
        "            tokens_b = tokenizer.tokenize(text_b)   \n",
        "\n",
        "        if tokens_b:\n",
        "            # Modifies `tokens_a` and `tokens_b` in place so that the total\n",
        "            # length is less than the specified length.\n",
        "            # Account for [CLS], [SEP], [SEP] with \"- 3\"\n",
        "            _truncate_seq_pair(tokens_a, tokens_b, max_seq_length - 3)\n",
        "        else:\n",
        "            # Account for [CLS] and [SEP] with \"- 2\"\n",
        "            if len(tokens_a) > max_seq_length - 2:\n",
        "                tokens_a = tokens_a[0:(max_seq_length - 2)] \n",
        "\n",
        "        \n",
        "        tokens = []\n",
        "        segment_ids = []\n",
        "        tokens.append(\"[CLS]\")\n",
        "        segment_ids.append(0)\n",
        "        for token in tokens_a:\n",
        "            tokens.append(token)\n",
        "            segment_ids.append(0)\n",
        "        tokens.append(\"[SEP]\")\n",
        "        segment_ids.append(0)   \n",
        "\n",
        "        if tokens_b:\n",
        "            for token in tokens_b:\n",
        "                tokens.append(token)\n",
        "                segment_ids.append(1)\n",
        "            tokens.append(\"[SEP]\")\n",
        "            segment_ids.append(1)   \n",
        "\n",
        "        input_ids = tokenizer.convert_tokens_to_ids(tokens) \n",
        "\n",
        "        # The mask has 1 for real tokens and 0 for padding tokens. Only real\n",
        "        # tokens are attended to.\n",
        "        input_mask = [1] * len(input_ids)   \n",
        "\n",
        "        # Zero-pad up to the sequence length.\n",
        "        while len(input_ids) < max_seq_length:\n",
        "            input_ids.append(0)\n",
        "            input_mask.append(0)\n",
        "            segment_ids.append(0)   \n",
        "\n",
        "        assert len(input_ids) == max_seq_length\n",
        "        assert len(input_mask) == max_seq_length\n",
        "        assert len(segment_ids) == max_seq_length\n",
        "        multiple_choice_input_ids.append(input_ids)\n",
        "        multiple_choice_input_masks.append(input_mask)\n",
        "        multiple_choice_segment_ids.append(segment_ids)\n",
        "    assert len(multiple_choice_input_ids) == 4\n",
        "    assert len(multiple_choice_input_masks) == 4\n",
        "    assert len(multiple_choice_segment_ids) == 4    \n",
        "\n",
        "    label_id = label_map[ans] \n",
        "    \n",
        "    \n",
        "\n",
        "    f = InputFeatures(input_ids=multiple_choice_input_ids,\n",
        "                      input_mask=multiple_choice_input_masks,\n",
        "                      segment_ids=multiple_choice_segment_ids,\n",
        "                      label_id=label_id)  \n",
        "    \n",
        "    \n",
        "\n",
        "    all_input_ids = torch.tensor([f.input_ids], dtype=torch.long)\n",
        "    all_input_mask = torch.tensor([f.input_mask], dtype=torch.long)\n",
        "    all_segment_ids = torch.tensor([f.segment_ids], dtype=torch.long)\n",
        "    all_label_ids = torch.tensor([f.label_id], dtype=torch.long)\n",
        "    eval_data = TensorDataset(all_input_ids, all_input_mask, all_segment_ids, all_label_ids)\n",
        "    eval_dataloader = DataLoader(eval_data, sampler=SequentialSampler(eval_data), batch_size=1)\n",
        "\n",
        "    return eval_dataloader, tokens\n",
        "\n",
        "\n"
      ],
      "execution_count": 0,
      "outputs": []
    },
    {
      "cell_type": "code",
      "metadata": {
        "colab_type": "code",
        "id": "mJqcTOlBmkp5",
        "outputId": "b4be7889-b2d3-468b-caef-8e33cb202537",
        "colab": {
          "base_uri": "https://localhost:8080/",
          "height": 241
        }
      },
      "source": [
        "# 因為要我們今天要跑的是中文QA 所以只有Bert可以用\n",
        "import torch\n",
        "from pytorch_pretrained_bert import (BertConfig, BertForSequenceClassification,\n",
        "                                 BertTokenizer)\n",
        "\n",
        "device = torch.device(\"cuda\")\n",
        " \n",
        "model_name = 'bert_chinese'\n",
        "config_class, tokenizer_class = BertConfig, BertTokenizer\n",
        "# model = model_class.from_pretrained('bert_chinese').to(device)\n",
        "model = torch.load(model_name + '/model.cpt') \n",
        "tokenizer = torch.load(model_name + '/tokenizer.cpt')"
      ],
      "execution_count": 0,
      "outputs": [
        {
          "output_type": "stream",
          "text": [
            "/usr/local/lib/python3.6/dist-packages/torch/serialization.py:453: SourceChangeWarning: source code of class 'pytorch_pretrained_bert.modeling.BertForSequenceClassification' has changed. you can retrieve the original source code by accessing the object's source attribute or set `torch.nn.Module.dump_patches = True` and use the patch tool to revert the changes.\n",
            "  warnings.warn(msg, SourceChangeWarning)\n",
            "/usr/local/lib/python3.6/dist-packages/torch/serialization.py:453: SourceChangeWarning: source code of class 'torch.nn.modules.sparse.Embedding' has changed. you can retrieve the original source code by accessing the object's source attribute or set `torch.nn.Module.dump_patches = True` and use the patch tool to revert the changes.\n",
            "  warnings.warn(msg, SourceChangeWarning)\n",
            "/usr/local/lib/python3.6/dist-packages/torch/serialization.py:453: SourceChangeWarning: source code of class 'torch.nn.modules.dropout.Dropout' has changed. you can retrieve the original source code by accessing the object's source attribute or set `torch.nn.Module.dump_patches = True` and use the patch tool to revert the changes.\n",
            "  warnings.warn(msg, SourceChangeWarning)\n",
            "/usr/local/lib/python3.6/dist-packages/torch/serialization.py:453: SourceChangeWarning: source code of class 'torch.nn.modules.container.ModuleList' has changed. you can retrieve the original source code by accessing the object's source attribute or set `torch.nn.Module.dump_patches = True` and use the patch tool to revert the changes.\n",
            "  warnings.warn(msg, SourceChangeWarning)\n",
            "/usr/local/lib/python3.6/dist-packages/torch/serialization.py:453: SourceChangeWarning: source code of class 'torch.nn.modules.linear.Linear' has changed. you can retrieve the original source code by accessing the object's source attribute or set `torch.nn.Module.dump_patches = True` and use the patch tool to revert the changes.\n",
            "  warnings.warn(msg, SourceChangeWarning)\n",
            "/usr/local/lib/python3.6/dist-packages/torch/serialization.py:453: SourceChangeWarning: source code of class 'torch.nn.modules.activation.Tanh' has changed. you can retrieve the original source code by accessing the object's source attribute or set `torch.nn.Module.dump_patches = True` and use the patch tool to revert the changes.\n",
            "  warnings.warn(msg, SourceChangeWarning)\n"
          ],
          "name": "stderr"
        }
      ]
    },
    {
      "cell_type": "code",
      "metadata": {
        "colab_type": "code",
        "id": "L6kLJIKjB0jG",
        "outputId": "7765d678-0ec5-4f79-f567-4db1d806912e",
        "colab": {
          "base_uri": "https://localhost:8080/",
          "height": 173
        }
      },
      "source": [
        "context = '關於芒果品種的小故事，土芒果是最早來台灣的芒果，是荷蘭人在台期間引進，同時也是產期最早的芒果，早生品種在4月即可採收，盛產期5至7月，果皮黃綠色，纖維較粗，酸甜有味，是許多人兒時記憶中的味道；愛文則是台灣栽培最多的主力品種，1954年由美國佛羅里達引進，產期5至7月，外皮鮮紅討喜，甜酸適中符合現代大眾的喜好；凱特同樣與愛文同時引進，但較晚生成，產期可延遲至9至10月，故有「九月檨」之稱號，果實外觀黃色，為較大之卵圓型，果肉多汁而帶微酸。'\n",
        "question = '請問台灣的主力芒果品種為何？'\n",
        "choices = ['小芒果', '土芒果', '愛文芒果', '凱特芒果']\n",
        "label = 3\n",
        "data, tokens = convert_examples_to_features(context, question, choices, tokenizer, 2)\n",
        "pred = predict(data, model, tokenizer, device=device)\n",
        "\n",
        "print('\\n\\n', context)\n",
        "print(question)\n",
        "print('Predicted answer: ', choices[pred])\n",
        "print('Ground truth: ', choices[label-1])"
      ],
      "execution_count": 0,
      "outputs": [
        {
          "output_type": "stream",
          "text": [
            "\rIteration:   0%|          | 0/1 [00:00<?, ?it/s]"
          ],
          "name": "stderr"
        },
        {
          "output_type": "stream",
          "text": [
            "torch.Size([1, 4, 300])\n"
          ],
          "name": "stdout"
        },
        {
          "output_type": "stream",
          "text": [
            "\rIteration: 100%|██████████| 1/1 [00:00<00:00,  2.12it/s]"
          ],
          "name": "stderr"
        },
        {
          "output_type": "stream",
          "text": [
            "\n",
            "\n",
            " 關於芒果品種的小故事，土芒果是最早來台灣的芒果，是荷蘭人在台期間引進，同時也是產期最早的芒果，早生品種在4月即可採收，盛產期5至7月，果皮黃綠色，纖維較粗，酸甜有味，是許多人兒時記憶中的味道；愛文則是台灣栽培最多的主力品種，1954年由美國佛羅里達引進，產期5至7月，外皮鮮紅討喜，甜酸適中符合現代大眾的喜好；凱特同樣與愛文同時引進，但較晚生成，產期可延遲至9至10月，故有「九月檨」之稱號，果實外觀黃色，為較大之卵圓型，果肉多汁而帶微酸。\n",
            "請問台灣的主力芒果品種為何？\n",
            "Predicted answer:  愛文芒果\n",
            "Ground truth:  愛文芒果\n"
          ],
          "name": "stdout"
        },
        {
          "output_type": "stream",
          "text": [
            "\n"
          ],
          "name": "stderr"
        }
      ]
    },
    {
      "cell_type": "code",
      "metadata": {
        "colab_type": "code",
        "id": "VIjG57MsT2BC",
        "outputId": "79d61f71-2cd5-405c-c13d-c89f4df5102b",
        "colab": {
          "base_uri": "https://localhost:8080/",
          "height": 173
        }
      },
      "source": [
        "\n",
        "question = '土芒果是哪國人引進的？'#'請問何者與愛文同時引進?'\n",
        "choices = ['荷蘭', '台灣', '美國', '日本']\n",
        "label = 1\n",
        "data, tokens = convert_examples_to_features(context, question, choices, tokenizer, 4)\n",
        "pred = predict(data, model, tokenizer, device=device)\n",
        "\n",
        "print('\\n\\n', context)\n",
        "print(question)\n",
        "print('Predicted answer: ', choices[pred])\n",
        "print('Ground truth: ', choices[label-1])"
      ],
      "execution_count": 0,
      "outputs": [
        {
          "output_type": "stream",
          "text": [
            "\rIteration:   0%|          | 0/1 [00:00<?, ?it/s]"
          ],
          "name": "stderr"
        },
        {
          "output_type": "stream",
          "text": [
            "torch.Size([1, 4, 300])\n"
          ],
          "name": "stdout"
        },
        {
          "output_type": "stream",
          "text": [
            "\rIteration: 100%|██████████| 1/1 [00:00<00:00,  3.46it/s]"
          ],
          "name": "stderr"
        },
        {
          "output_type": "stream",
          "text": [
            "\n",
            "\n",
            " 關於芒果品種的小故事，土芒果是最早來台灣的芒果，是荷蘭人在台期間引進，同時也是產期最早的芒果，早生品種在4月即可採收，盛產期5至7月，果皮黃綠色，纖維較粗，酸甜有味，是許多人兒時記憶中的味道；愛文則是台灣栽培最多的主力品種，1954年由美國佛羅里達引進，產期5至7月，外皮鮮紅討喜，甜酸適中符合現代大眾的喜好；凱特同樣與愛文同時引進，但較晚生成，產期可延遲至9至10月，故有「九月檨」之稱號，果實外觀黃色，為較大之卵圓型，果肉多汁而帶微酸。\n",
            "土芒果是哪國人引進的？\n",
            "Predicted answer:  荷蘭\n",
            "Ground truth:  荷蘭\n"
          ],
          "name": "stdout"
        },
        {
          "output_type": "stream",
          "text": [
            "\n"
          ],
          "name": "stderr"
        }
      ]
    },
    {
      "cell_type": "code",
      "metadata": {
        "id": "aDm-nkMj2C85",
        "colab_type": "code",
        "colab": {}
      },
      "source": [
        ""
      ],
      "execution_count": 0,
      "outputs": []
    },
    {
      "cell_type": "code",
      "metadata": {
        "id": "ieYOjV_-2C87",
        "colab_type": "code",
        "colab": {}
      },
      "source": [
        ""
      ],
      "execution_count": 0,
      "outputs": []
    }
  ]
}